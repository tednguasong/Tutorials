{
 "cells": [
  {
   "cell_type": "code",
   "execution_count": 1,
   "id": "e3045a2d",
   "metadata": {},
   "outputs": [],
   "source": [
    "import pandas as pd\n",
    "import numpy as np"
   ]
  },
  {
   "cell_type": "code",
   "execution_count": 3,
   "id": "59ab30a4",
   "metadata": {},
   "outputs": [],
   "source": [
    "s = pd.Series([1,2,3,4,5,6, np.nan,8,9,10])"
   ]
  },
  {
   "cell_type": "code",
   "execution_count": 4,
   "id": "a1e283a8",
   "metadata": {},
   "outputs": [
    {
     "data": {
      "text/plain": [
       "0     1.0\n",
       "1     2.0\n",
       "2     3.0\n",
       "3     4.0\n",
       "4     5.0\n",
       "5     6.0\n",
       "6     NaN\n",
       "7     8.0\n",
       "8     9.0\n",
       "9    10.0\n",
       "dtype: float64"
      ]
     },
     "execution_count": 4,
     "metadata": {},
     "output_type": "execute_result"
    }
   ],
   "source": [
    "s"
   ]
  },
  {
   "cell_type": "code",
   "execution_count": 5,
   "id": "0fb66e37",
   "metadata": {},
   "outputs": [],
   "source": [
    "d = pd.date_range('20200301', periods=10)"
   ]
  },
  {
   "cell_type": "code",
   "execution_count": 6,
   "id": "025c7421",
   "metadata": {},
   "outputs": [
    {
     "data": {
      "text/plain": [
       "DatetimeIndex(['2020-03-01', '2020-03-02', '2020-03-03', '2020-03-04',\n",
       "               '2020-03-05', '2020-03-06', '2020-03-07', '2020-03-08',\n",
       "               '2020-03-09', '2020-03-10'],\n",
       "              dtype='datetime64[ns]', freq='D')"
      ]
     },
     "execution_count": 6,
     "metadata": {},
     "output_type": "execute_result"
    }
   ],
   "source": [
    "d"
   ]
  },
  {
   "cell_type": "code",
   "execution_count": 9,
   "id": "f6023c9e",
   "metadata": {},
   "outputs": [],
   "source": [
    "df = pd.DataFrame(np.random.randn(10,4), index=d,columns=['A','B','C','D'])"
   ]
  },
  {
   "cell_type": "code",
   "execution_count": 10,
   "id": "26a96082",
   "metadata": {},
   "outputs": [
    {
     "data": {
      "text/html": [
       "<div>\n",
       "<style scoped>\n",
       "    .dataframe tbody tr th:only-of-type {\n",
       "        vertical-align: middle;\n",
       "    }\n",
       "\n",
       "    .dataframe tbody tr th {\n",
       "        vertical-align: top;\n",
       "    }\n",
       "\n",
       "    .dataframe thead th {\n",
       "        text-align: right;\n",
       "    }\n",
       "</style>\n",
       "<table border=\"1\" class=\"dataframe\">\n",
       "  <thead>\n",
       "    <tr style=\"text-align: right;\">\n",
       "      <th></th>\n",
       "      <th>A</th>\n",
       "      <th>B</th>\n",
       "      <th>C</th>\n",
       "      <th>D</th>\n",
       "    </tr>\n",
       "  </thead>\n",
       "  <tbody>\n",
       "    <tr>\n",
       "      <th>2020-03-01</th>\n",
       "      <td>-1.041857</td>\n",
       "      <td>-1.589449</td>\n",
       "      <td>1.462295</td>\n",
       "      <td>-2.306643</td>\n",
       "    </tr>\n",
       "    <tr>\n",
       "      <th>2020-03-02</th>\n",
       "      <td>1.530448</td>\n",
       "      <td>-1.097617</td>\n",
       "      <td>1.301508</td>\n",
       "      <td>-0.370859</td>\n",
       "    </tr>\n",
       "    <tr>\n",
       "      <th>2020-03-03</th>\n",
       "      <td>-1.931735</td>\n",
       "      <td>-0.013501</td>\n",
       "      <td>-0.384431</td>\n",
       "      <td>-0.843423</td>\n",
       "    </tr>\n",
       "    <tr>\n",
       "      <th>2020-03-04</th>\n",
       "      <td>0.600044</td>\n",
       "      <td>-0.151137</td>\n",
       "      <td>0.551847</td>\n",
       "      <td>0.463456</td>\n",
       "    </tr>\n",
       "    <tr>\n",
       "      <th>2020-03-05</th>\n",
       "      <td>0.408927</td>\n",
       "      <td>0.572300</td>\n",
       "      <td>0.861436</td>\n",
       "      <td>-0.359414</td>\n",
       "    </tr>\n",
       "    <tr>\n",
       "      <th>2020-03-06</th>\n",
       "      <td>0.075995</td>\n",
       "      <td>-0.646109</td>\n",
       "      <td>0.411060</td>\n",
       "      <td>-0.900929</td>\n",
       "    </tr>\n",
       "    <tr>\n",
       "      <th>2020-03-07</th>\n",
       "      <td>1.324189</td>\n",
       "      <td>-0.010723</td>\n",
       "      <td>-0.768142</td>\n",
       "      <td>-0.981122</td>\n",
       "    </tr>\n",
       "    <tr>\n",
       "      <th>2020-03-08</th>\n",
       "      <td>-1.007788</td>\n",
       "      <td>-0.434893</td>\n",
       "      <td>-0.272913</td>\n",
       "      <td>-1.527868</td>\n",
       "    </tr>\n",
       "    <tr>\n",
       "      <th>2020-03-09</th>\n",
       "      <td>-0.270524</td>\n",
       "      <td>-0.110480</td>\n",
       "      <td>0.405176</td>\n",
       "      <td>-0.578447</td>\n",
       "    </tr>\n",
       "    <tr>\n",
       "      <th>2020-03-10</th>\n",
       "      <td>-0.047612</td>\n",
       "      <td>-0.699829</td>\n",
       "      <td>0.795788</td>\n",
       "      <td>-0.915585</td>\n",
       "    </tr>\n",
       "  </tbody>\n",
       "</table>\n",
       "</div>"
      ],
      "text/plain": [
       "                   A         B         C         D\n",
       "2020-03-01 -1.041857 -1.589449  1.462295 -2.306643\n",
       "2020-03-02  1.530448 -1.097617  1.301508 -0.370859\n",
       "2020-03-03 -1.931735 -0.013501 -0.384431 -0.843423\n",
       "2020-03-04  0.600044 -0.151137  0.551847  0.463456\n",
       "2020-03-05  0.408927  0.572300  0.861436 -0.359414\n",
       "2020-03-06  0.075995 -0.646109  0.411060 -0.900929\n",
       "2020-03-07  1.324189 -0.010723 -0.768142 -0.981122\n",
       "2020-03-08 -1.007788 -0.434893 -0.272913 -1.527868\n",
       "2020-03-09 -0.270524 -0.110480  0.405176 -0.578447\n",
       "2020-03-10 -0.047612 -0.699829  0.795788 -0.915585"
      ]
     },
     "execution_count": 10,
     "metadata": {},
     "output_type": "execute_result"
    }
   ],
   "source": [
    "df"
   ]
  }
 ],
 "metadata": {
  "kernelspec": {
   "display_name": "Python 3",
   "language": "python",
   "name": "python3"
  },
  "language_info": {
   "codemirror_mode": {
    "name": "ipython",
    "version": 3
   },
   "file_extension": ".py",
   "mimetype": "text/x-python",
   "name": "python",
   "nbconvert_exporter": "python",
   "pygments_lexer": "ipython3",
   "version": "3.8.8"
  }
 },
 "nbformat": 4,
 "nbformat_minor": 5
}
